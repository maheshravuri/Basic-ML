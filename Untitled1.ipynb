{
  "nbformat": 4,
  "nbformat_minor": 0,
  "metadata": {
    "colab": {
      "name": "Untitled1.ipynb",
      "provenance": [],
      "authorship_tag": "ABX9TyPeenbch4hBXYOe8TdgQqk4",
      "include_colab_link": true
    },
    "kernelspec": {
      "name": "python3",
      "display_name": "Python 3"
    },
    "language_info": {
      "name": "python"
    }
  },
  "cells": [
    {
      "cell_type": "markdown",
      "metadata": {
        "id": "view-in-github",
        "colab_type": "text"
      },
      "source": [
        "<a href=\"https://colab.research.google.com/github/maheshravuri/Basic-ML/blob/main/Untitled1.ipynb\" target=\"_parent\"><img src=\"https://colab.research.google.com/assets/colab-badge.svg\" alt=\"Open In Colab\"/></a>"
      ]
    },
    {
      "cell_type": "markdown",
      "metadata": {
        "id": "9h1NIgB5cAzm"
      },
      "source": [
        "Checking a no. Palindrome Or not\n"
      ]
    },
    {
      "cell_type": "code",
      "metadata": {
        "id": "n1QqxGFmbsVr"
      },
      "source": [
        "n=int(input(\"Enter number:\"))\n",
        "temp=n\n",
        "rev=0\n",
        "while(n>0):\n",
        "    dig=n%10\n",
        "    rev=rev*10+dig\n",
        "    n=n//10\n",
        "if(temp==rev):\n",
        "    print(\"The number is a palindrome!\")\n",
        "else:\n",
        "    print(\"The number isn't a palindrome!\")"
      ],
      "execution_count": null,
      "outputs": []
    },
    {
      "cell_type": "markdown",
      "metadata": {
        "id": "5CGobyhsb_z4"
      },
      "source": [
        "Checking a no. Positive Or negative"
      ]
    },
    {
      "cell_type": "code",
      "metadata": {
        "id": "-DBtfeN9cOE1"
      },
      "source": [
        "num = float(input(\"Enter a number: \"))\n",
        "if num > 0:\n",
        "   print(\"Positive number\")\n",
        "elif num == 0:\n",
        "   print(\"Zero\")\n",
        "else:\n",
        "   print(\"Negative number\")"
      ],
      "execution_count": null,
      "outputs": []
    },
    {
      "cell_type": "markdown",
      "metadata": {
        "id": "TZgxhSIRcSHE"
      },
      "source": [
        " Python break"
      ]
    },
    {
      "cell_type": "code",
      "metadata": {
        "id": "D8YR3nepciEF"
      },
      "source": [
        "# Use of break statement inside the loop\n",
        "\n",
        "for val in \"string\":\n",
        "    if val == \"i\":\n",
        "        break\n",
        "    print(val)\n",
        "\n",
        "print(\"The end\")"
      ],
      "execution_count": null,
      "outputs": []
    }
  ]
}